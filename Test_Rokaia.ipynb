{
 "cells": [
  {
   "cell_type": "code",
   "execution_count": 19,
   "id": "4b043349",
   "metadata": {},
   "outputs": [
    {
     "ename": "SyntaxError",
     "evalue": "starred assignment target must be in a list or tuple (2096729834.py, line 1)",
     "output_type": "error",
     "traceback": [
      "\u001b[1;36m  Input \u001b[1;32mIn [19]\u001b[1;36m\u001b[0m\n\u001b[1;33m    *ewe=\"ref\"\u001b[0m\n\u001b[1;37m    ^\u001b[0m\n\u001b[1;31mSyntaxError\u001b[0m\u001b[1;31m:\u001b[0m starred assignment target must be in a list or tuple\n"
     ]
    }
   ],
   "source": [
    "*ewe=\"ref\"\n",
    "#aa@wr=4\n",
    "_rr=6.8\n",
    "ro_eyu=3\n",
    "ro= 6\n",
    "Ro= 8\n",
    "print(ro)\n",
    "print(Ro)\n",
    "#def=7\n",
    "#print(def)"
   ]
  },
  {
   "cell_type": "code",
   "execution_count": 16,
   "id": "2f8cf3bc",
   "metadata": {},
   "outputs": [
    {
     "name": "stdout",
     "output_type": "stream",
     "text": [
      "Rokaia \bAhmed\n"
     ]
    }
   ],
   "source": [
    "print(\"Rokaia \\bAhmed\")"
   ]
  },
  {
   "cell_type": "code",
   "execution_count": 19,
   "id": "ecefd36e",
   "metadata": {},
   "outputs": [
    {
     "ename": "TypeError",
     "evalue": "'str' object is not callable",
     "output_type": "error",
     "traceback": [
      "\u001b[1;31m---------------------------------------------------------------------------\u001b[0m",
      "\u001b[1;31mTypeError\u001b[0m                                 Traceback (most recent call last)",
      "Input \u001b[1;32mIn [19]\u001b[0m, in \u001b[0;36m<cell line: 1>\u001b[1;34m()\u001b[0m\n\u001b[1;32m----> 1\u001b[0m \u001b[38;5;28;43mprint\u001b[39;49m\u001b[43m(\u001b[49m\u001b[38;5;124;43m\"\u001b[39;49m\u001b[38;5;124;43mdtdt\u001b[39;49m\u001b[38;5;124;43m\"\u001b[39;49m\u001b[43m)\u001b[49m\n",
      "\u001b[1;31mTypeError\u001b[0m: 'str' object is not callable"
     ]
    }
   ],
   "source": [
    "print(\"dtdt\")"
   ]
  },
  {
   "cell_type": "code",
   "execution_count": 20,
   "id": "d35dc63e",
   "metadata": {},
   "outputs": [
    {
     "name": "stdout",
     "output_type": "stream",
     "text": [
      "4\n"
     ]
    }
   ],
   "source": [
    "print(4)"
   ]
  },
  {
   "cell_type": "code",
   "execution_count": 21,
   "id": "7ba0a196",
   "metadata": {},
   "outputs": [
    {
     "ename": "NameError",
     "evalue": "name 'x' is not defined",
     "output_type": "error",
     "traceback": [
      "\u001b[1;31m---------------------------------------------------------------------------\u001b[0m",
      "\u001b[1;31mNameError\u001b[0m                                 Traceback (most recent call last)",
      "Input \u001b[1;32mIn [21]\u001b[0m, in \u001b[0;36m<cell line: 1>\u001b[1;34m()\u001b[0m\n\u001b[1;32m----> 1\u001b[0m \u001b[38;5;28mprint\u001b[39m(\u001b[43mx\u001b[49m)\n",
      "\u001b[1;31mNameError\u001b[0m: name 'x' is not defined"
     ]
    }
   ],
   "source": [
    "print(x)"
   ]
  },
  {
   "cell_type": "code",
   "execution_count": 22,
   "id": "d738c8ec",
   "metadata": {},
   "outputs": [
    {
     "name": "stdout",
     "output_type": "stream",
     "text": [
      "x\n"
     ]
    }
   ],
   "source": [
    "print('x')"
   ]
  },
  {
   "cell_type": "code",
   "execution_count": 34,
   "id": "623ea47e",
   "metadata": {},
   "outputs": [
    {
     "name": "stdout",
     "output_type": "stream",
     "text": [
      "5\n"
     ]
    },
    {
     "data": {
      "text/plain": [
       "'\\nr=6\\nR=7\\n'"
      ]
     },
     "execution_count": 34,
     "metadata": {},
     "output_type": "execute_result"
    }
   ],
   "source": [
    "_ro=5\n",
    "print(_ro)\n",
    "\"\"\"\n",
    "r=6\n",
    "R=7\n",
    "\"\"\"\n",
    "#zlkjkfjsefwih\n",
    "#print(r)\n",
    "#print(R)"
   ]
  },
  {
   "cell_type": "code",
   "execution_count": 35,
   "id": "acb41c12",
   "metadata": {},
   "outputs": [
    {
     "name": "stdout",
     "output_type": "stream",
     "text": [
      "hello\n",
      "  world\n"
     ]
    }
   ],
   "source": [
    "print(\"hello\\n  world\")"
   ]
  },
  {
   "cell_type": "code",
   "execution_count": 37,
   "id": "e7bd84e7",
   "metadata": {},
   "outputs": [
    {
     "name": "stdout",
     "output_type": "stream",
     "text": [
      "hello\n",
      "   world\n"
     ]
    }
   ],
   "source": [
    "print(\"hello\")\n",
    "print(\"   world\")"
   ]
  },
  {
   "cell_type": "code",
   "execution_count": 36,
   "id": "a5343125",
   "metadata": {},
   "outputs": [
    {
     "name": "stdout",
     "output_type": "stream",
     "text": [
      "Rokaia\tAhmed\n"
     ]
    }
   ],
   "source": [
    "print(\"Rokaia\\tAhmed\")\n"
   ]
  },
  {
   "cell_type": "code",
   "execution_count": 45,
   "id": "86e93f9a",
   "metadata": {},
   "outputs": [
    {
     "ename": "SyntaxError",
     "evalue": "invalid syntax (2795738087.py, line 1)",
     "output_type": "error",
     "traceback": [
      "\u001b[1;36m  Input \u001b[1;32mIn [45]\u001b[1;36m\u001b[0m\n\u001b[1;33m    print(\"rok\"j\"aia\")\u001b[0m\n\u001b[1;37m               ^\u001b[0m\n\u001b[1;31mSyntaxError\u001b[0m\u001b[1;31m:\u001b[0m invalid syntax\n"
     ]
    }
   ],
   "source": [
    "rok\"j\"aia\n",
    "\n",
    "\n",
    "\n",
    "\n",
    "\n",
    "\n",
    "\n",
    "\n",
    "\n",
    "\n",
    "print(\"rok\"j\"aia\")"
   ]
  },
  {
   "cell_type": "code",
   "execution_count": 49,
   "id": "ab18894d",
   "metadata": {},
   "outputs": [
    {
     "name": "stdout",
     "output_type": "stream",
     "text": [
      "rokaia 'ahmed mohamed\n"
     ]
    }
   ],
   "source": [
    "print(\"rokaia \\'ahmed mohamed\")\n"
   ]
  },
  {
   "cell_type": "code",
   "execution_count": 51,
   "id": "13ef6f8b",
   "metadata": {},
   "outputs": [
    {
     "name": "stdout",
     "output_type": "stream",
     "text": [
      "hello rokai\n"
     ]
    }
   ],
   "source": [
    "r=\"rokai\"\n",
    "print(\"hello\",r)"
   ]
  },
  {
   "cell_type": "code",
   "execution_count": 52,
   "id": "e976d1e4",
   "metadata": {},
   "outputs": [
    {
     "name": "stdout",
     "output_type": "stream",
     "text": [
      "rokaia\n",
      "hellorokaia\n"
     ]
    }
   ],
   "source": [
    "print(\"hello\"+input())"
   ]
  },
  {
   "cell_type": "code",
   "execution_count": 56,
   "id": "fcf90c6e",
   "metadata": {},
   "outputs": [
    {
     "name": "stdout",
     "output_type": "stream",
     "text": [
      "rokaia\n",
      "hello rokaia\n"
     ]
    }
   ],
   "source": [
    "x=\"hello\"\n",
    "name=input()\n",
    "print(x+' '+name)"
   ]
  },
  {
   "cell_type": "code",
   "execution_count": 62,
   "id": "a82750e2",
   "metadata": {},
   "outputs": [
    {
     "ename": "TypeError",
     "evalue": "'int' object is not callable",
     "output_type": "error",
     "traceback": [
      "\u001b[1;31m---------------------------------------------------------------------------\u001b[0m",
      "\u001b[1;31mTypeError\u001b[0m                                 Traceback (most recent call last)",
      "Input \u001b[1;32mIn [62]\u001b[0m, in \u001b[0;36m<cell line: 2>\u001b[1;34m()\u001b[0m\n\u001b[0;32m      1\u001b[0m n\u001b[38;5;241m=\u001b[39m\u001b[38;5;241m5\u001b[39m\n\u001b[1;32m----> 2\u001b[0m \u001b[38;5;28mprint\u001b[39m(\u001b[38;5;28;43mstr\u001b[39;49m\u001b[43m(\u001b[49m\u001b[43mn\u001b[49m\u001b[43m)\u001b[49m)\n",
      "\u001b[1;31mTypeError\u001b[0m: 'int' object is not callable"
     ]
    }
   ],
   "source": [
    "n=5\n",
    "print(str(n))\n"
   ]
  },
  {
   "cell_type": "code",
   "execution_count": 64,
   "id": "f216345d",
   "metadata": {},
   "outputs": [
    {
     "name": "stdout",
     "output_type": "stream",
     "text": [
      "5\n",
      "10\n",
      "15\n"
     ]
    }
   ],
   "source": [
    "n1=input()\n",
    "n2=input()\n",
    "s=int(n1)+int(n2)\n",
    "print(s)"
   ]
  },
  {
   "cell_type": "code",
   "execution_count": 65,
   "id": "b4bca653",
   "metadata": {},
   "outputs": [
    {
     "name": "stdout",
     "output_type": "stream",
     "text": [
      "rokaia\n",
      "ahmed\n",
      "rokaiaahmed\n",
      "rokaia ahmed\n"
     ]
    }
   ],
   "source": [
    "name1=input()\n",
    "name2=input()\n",
    "print(name1+name2)\n",
    "print(name1,name2)"
   ]
  },
  {
   "cell_type": "code",
   "execution_count": 67,
   "id": "12821da4",
   "metadata": {},
   "outputs": [
    {
     "name": "stdout",
     "output_type": "stream",
     "text": [
      "3\n",
      "10\n",
      "310\n"
     ]
    }
   ],
   "source": [
    "n1=input()\n",
    "n2=input()\n",
    "s=int(n1+n2)\n",
    "print(s)"
   ]
  },
  {
   "cell_type": "code",
   "execution_count": 71,
   "id": "214ab7f4",
   "metadata": {},
   "outputs": [
    {
     "name": "stdout",
     "output_type": "stream",
     "text": [
      "enter your name: rokaia\n",
      "hello rokaia\n"
     ]
    }
   ],
   "source": [
    "#print(\"enter your name: \")\n",
    "name=input(\"enter your name: \")\n",
    "print(\"hello\",name)"
   ]
  },
  {
   "cell_type": "code",
   "execution_count": 76,
   "id": "d630d834",
   "metadata": {},
   "outputs": [
    {
     "name": "stdout",
     "output_type": "stream",
     "text": [
      "enter your name right now \n",
      "Hello right now \n"
     ]
    }
   ],
   "source": [
    "print(\"Hello\",input (\"enter your name \"))"
   ]
  },
  {
   "cell_type": "code",
   "execution_count": 75,
   "id": "49f46a2a",
   "metadata": {},
   "outputs": [
    {
     "ename": "NameError",
     "evalue": "name 'osam' is not defined",
     "output_type": "error",
     "traceback": [
      "\u001b[1;31m---------------------------------------------------------------------------\u001b[0m",
      "\u001b[1;31mNameError\u001b[0m                                 Traceback (most recent call last)",
      "Input \u001b[1;32mIn [75]\u001b[0m, in \u001b[0;36m<cell line: 1>\u001b[1;34m()\u001b[0m\n\u001b[1;32m----> 1\u001b[0m \u001b[43mosam\u001b[49m\n",
      "\u001b[1;31mNameError\u001b[0m: name 'osam' is not defined"
     ]
    }
   ],
   "source": [
    "osam"
   ]
  },
  {
   "cell_type": "code",
   "execution_count": 81,
   "id": "48a5f949",
   "metadata": {},
   "outputs": [
    {
     "data": {
      "text/plain": [
       "30.0"
      ]
     },
     "execution_count": 81,
     "metadata": {},
     "output_type": "execute_result"
    }
   ],
   "source": [
    "a,b=5,6\n",
    "m= (pow(a+b),2)-pow(a,2)-pow(b,2) )/ 2\n",
    "m\n"
   ]
  },
  {
   "cell_type": "code",
   "execution_count": 82,
   "id": "71006944",
   "metadata": {},
   "outputs": [
    {
     "name": "stdout",
     "output_type": "stream",
     "text": [
      "0\n",
      "1\n",
      "1\n"
     ]
    }
   ],
   "source": [
    "i=0\n",
    "n1 , n2=i , i+1\n",
    "i+=1\n",
    "print(n1)\n",
    "print(n2)\n",
    "print(i)"
   ]
  },
  {
   "cell_type": "code",
   "execution_count": null,
   "id": "20420c53",
   "metadata": {},
   "outputs": [],
   "source": []
  }
 ],
 "metadata": {
  "kernelspec": {
   "display_name": "Python 3 (ipykernel)",
   "language": "python",
   "name": "python3"
  },
  "language_info": {
   "codemirror_mode": {
    "name": "ipython",
    "version": 3
   },
   "file_extension": ".py",
   "mimetype": "text/x-python",
   "name": "python",
   "nbconvert_exporter": "python",
   "pygments_lexer": "ipython3",
   "version": "3.9.12"
  }
 },
 "nbformat": 4,
 "nbformat_minor": 5
}
